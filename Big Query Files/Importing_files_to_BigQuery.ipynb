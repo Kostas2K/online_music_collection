{
 "cells": [
  {
   "cell_type": "code",
   "execution_count": 39,
   "id": "4f36ae16",
   "metadata": {},
   "outputs": [],
   "source": [
    "from google.cloud import bigquery\n",
    "import pandas as pd\n",
    "import numpy as np\n",
    "import datetime\n",
    "import time\n",
    "import csv"
   ]
  },
  {
   "cell_type": "code",
   "execution_count": null,
   "id": "0ed71ad3",
   "metadata": {},
   "outputs": [],
   "source": [
    "############\n",
    "## Importing music collection\n",
    "############"
   ]
  },
  {
   "cell_type": "code",
   "execution_count": 63,
   "id": "a07055cd",
   "metadata": {},
   "outputs": [],
   "source": [
    "client=bigquery.Client(\"project_id\")\n",
    "\n",
    "job_config=bigquery.LoadJobConfig(\n",
    "    source_format=bigquery.SourceFormat.CSV,\n",
    "skip_leading_rows=1,\n",
    "autodetect=True,)"
   ]
  },
  {
   "cell_type": "code",
   "execution_count": 64,
   "id": "294c2252",
   "metadata": {},
   "outputs": [],
   "source": [
    "table_id = \"project_id.discogs_db.record_collection\""
   ]
  },
  {
   "cell_type": "code",
   "execution_count": 65,
   "id": "55d1d57d",
   "metadata": {},
   "outputs": [],
   "source": [
    "with open(r'music_collection_final.csv',\"rb\") as source_file:\n",
    "    job=client.load_table_from_file(source_file,table_id,job_config=job_config)"
   ]
  },
  {
   "cell_type": "code",
   "execution_count": 66,
   "id": "9215f091",
   "metadata": {},
   "outputs": [
    {
     "name": "stdout",
     "output_type": "stream",
     "text": [
      "DONE\n",
      "<bound method _AsyncJob.result of LoadJob<project=myprojectbq-328820, location=US, id=a9202cc4-a86d-4420-b904-b72cb6d61f05>>\n"
     ]
    }
   ],
   "source": [
    "while job.state!='DONE':\n",
    "    time.sleep(2)\n",
    "    job.reload()\n",
    "    print(job.state)\n",
    "    \n",
    "print(job.result)"
   ]
  },
  {
   "cell_type": "code",
   "execution_count": 67,
   "id": "f9cd47fc",
   "metadata": {},
   "outputs": [
    {
     "name": "stdout",
     "output_type": "stream",
     "text": [
      "Loaded 699 rows and 16 columns to myprojectbq-328820.discogs_db.record_collection\n"
     ]
    }
   ],
   "source": [
    "table=client.get_table(table_id)\n",
    "print(\"Loaded {} rows and {} columns to {}\".format(table.num_rows, len(table.schema),table_id))"
   ]
  },
  {
   "cell_type": "code",
   "execution_count": null,
   "id": "286e4791",
   "metadata": {},
   "outputs": [],
   "source": [
    "######################\n",
    "### Importing the statement file\n",
    "######################"
   ]
  },
  {
   "cell_type": "code",
   "execution_count": 29,
   "id": "2e460fd0",
   "metadata": {},
   "outputs": [],
   "source": [
    "client=bigquery.Client(\"project_id\")\n",
    "\n",
    "job_config=bigquery.LoadJobConfig(\n",
    "source_format=bigquery.SourceFormat.CSV,\n",
    "skip_leading_rows=1,\n",
    "autodetect=True,)"
   ]
  },
  {
   "cell_type": "code",
   "execution_count": 30,
   "id": "9ed4ca92",
   "metadata": {},
   "outputs": [],
   "source": [
    "table_id = \"project_id.discogs_db.statement\""
   ]
  },
  {
   "cell_type": "code",
   "execution_count": 43,
   "id": "37dad073",
   "metadata": {},
   "outputs": [],
   "source": [
    "# Not working for initial file (Statement.csv) - lots of errors\n",
    "with open(r'Statement_clean.csv',\"rb\") as source_file:\n",
    "    job=client.load_table_from_file(source_file,table_id,job_config=job_config)"
   ]
  },
  {
   "cell_type": "code",
   "execution_count": 44,
   "id": "df3d43f6",
   "metadata": {},
   "outputs": [
    {
     "name": "stdout",
     "output_type": "stream",
     "text": [
      "DONE\n",
      "LoadJob<project=myprojectbq-328820, location=US, id=5286c316-c3e0-4f0c-b980-9c4002370126>\n"
     ]
    }
   ],
   "source": [
    "while job.state!='DONE':\n",
    "    time.sleep(2)\n",
    "    job.reload()\n",
    "    print(job.state)\n",
    "    \n",
    "print(job.result())"
   ]
  },
  {
   "cell_type": "code",
   "execution_count": 45,
   "id": "48ace658",
   "metadata": {},
   "outputs": [
    {
     "name": "stdout",
     "output_type": "stream",
     "text": [
      "Loaded 13 rows and 24 columns to myprojectbq-328820.discogs_db.statement\n"
     ]
    }
   ],
   "source": [
    "table=client.get_table(table_id)\n",
    "print(\"Loaded {} rows and {} columns to {}\".format(\n",
    "    table.num_rows, len(table.schema), table_id))"
   ]
  },
  {
   "cell_type": "code",
   "execution_count": 68,
   "id": "bc5d2b8c",
   "metadata": {},
   "outputs": [],
   "source": [
    "#######\n",
    "## Importing the top artists file \n",
    "#######\n",
    "\n",
    "client=bigquery.Client(\"project_id\")\n",
    "job_config=bigquery.LoadJobConfig(\n",
    "source_format=bigquery.SourceFormat.CSV,\n",
    "skip_leading_rows=1,\n",
    "autodetect=True,)"
   ]
  },
  {
   "cell_type": "code",
   "execution_count": 69,
   "id": "86b941dd",
   "metadata": {},
   "outputs": [],
   "source": [
    "table_id=\"project_id.discogs_db.top_artists_discography\""
   ]
  },
  {
   "cell_type": "code",
   "execution_count": 73,
   "id": "64ac3c36",
   "metadata": {},
   "outputs": [],
   "source": [
    "with open(r'top_artists_discography.csv',\"rb\") as source_file:\n",
    "    job=client.load_table_from_file(source_file,table_id,job_config=job_config)"
   ]
  },
  {
   "cell_type": "code",
   "execution_count": 74,
   "id": "90ab2d9b",
   "metadata": {},
   "outputs": [
    {
     "name": "stdout",
     "output_type": "stream",
     "text": [
      "DONE\n",
      "LoadJob<project=myprojectbq-328820, location=US, id=9950db10-8b4b-4ee1-b37d-d2223d4ae32b>\n"
     ]
    }
   ],
   "source": [
    "while job.state!='DONE':\n",
    "    time.sleep(2)\n",
    "    job.reload()\n",
    "    print(job.state)\n",
    "    \n",
    "print(job.result())"
   ]
  },
  {
   "cell_type": "code",
   "execution_count": 78,
   "id": "26e1b6fb",
   "metadata": {},
   "outputs": [
    {
     "name": "stdout",
     "output_type": "stream",
     "text": [
      "Loaded 1287 rows and 16 columns to myprojectbq-328820.discogs_db.top_artists_discography\n"
     ]
    }
   ],
   "source": [
    "table=client.get_table(table_id)\n",
    "print(\"Loaded {} rows and {} columns to {}\".format(table.num_rows, len(table.schema), table_id))"
   ]
  }
 ],
 "metadata": {
  "kernelspec": {
   "display_name": "Python 3 (ipykernel)",
   "language": "python",
   "name": "python3"
  },
  "language_info": {
   "codemirror_mode": {
    "name": "ipython",
    "version": 3
   },
   "file_extension": ".py",
   "mimetype": "text/x-python",
   "name": "python",
   "nbconvert_exporter": "python",
   "pygments_lexer": "ipython3",
   "version": "3.10.9"
  }
 },
 "nbformat": 4,
 "nbformat_minor": 5
}
