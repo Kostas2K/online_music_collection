{
 "cells": [
  {
   "cell_type": "code",
   "execution_count": 1,
   "id": "b24081ca",
   "metadata": {},
   "outputs": [],
   "source": [
    "import pandas as pd\n",
    "import googletrans\n",
    "from googletrans import Translator\n",
    "import numpy as np\n",
    "import seaborn as sns\n",
    "import matplotlib.pyplot as plt\n",
    "import re"
   ]
  },
  {
   "cell_type": "markdown",
   "id": "57ffa4e8",
   "metadata": {},
   "source": [
    "## Importing the file"
   ]
  },
  {
   "cell_type": "code",
   "execution_count": 2,
   "id": "1a5f5052",
   "metadata": {},
   "outputs": [
    {
     "data": {
      "text/html": [
       "<div>\n",
       "<style scoped>\n",
       "    .dataframe tbody tr th:only-of-type {\n",
       "        vertical-align: middle;\n",
       "    }\n",
       "\n",
       "    .dataframe tbody tr th {\n",
       "        vertical-align: top;\n",
       "    }\n",
       "\n",
       "    .dataframe thead th {\n",
       "        text-align: right;\n",
       "    }\n",
       "</style>\n",
       "<table border=\"1\" class=\"dataframe\">\n",
       "  <thead>\n",
       "    <tr style=\"text-align: right;\">\n",
       "      <th></th>\n",
       "      <th>Catalog#</th>\n",
       "      <th>Artist</th>\n",
       "      <th>Title</th>\n",
       "      <th>Label</th>\n",
       "      <th>Format</th>\n",
       "      <th>Released</th>\n",
       "      <th>release_id</th>\n",
       "      <th>CollectionFolder</th>\n",
       "      <th>Date Added</th>\n",
       "      <th>date</th>\n",
       "      <th>Time</th>\n",
       "    </tr>\n",
       "  </thead>\n",
       "  <tbody>\n",
       "    <tr>\n",
       "      <th>0</th>\n",
       "      <td>PIASV 007 CD, 946.0007.128</td>\n",
       "      <td>Mogwai</td>\n",
       "      <td>My Father My King</td>\n",
       "      <td>[PIAS] Recordings, [PIAS] Recordings, Rock Act...</td>\n",
       "      <td>CD, EP, Single</td>\n",
       "      <td>2001</td>\n",
       "      <td>527808</td>\n",
       "      <td>Uncategorized</td>\n",
       "      <td>07/12/2019 22:43</td>\n",
       "      <td>2019-07-12</td>\n",
       "      <td>22:43:00</td>\n",
       "    </tr>\n",
       "    <tr>\n",
       "      <th>1</th>\n",
       "      <td>12t030</td>\n",
       "      <td>Lost In Hildurness</td>\n",
       "      <td>Mount A</td>\n",
       "      <td>12 Tónar</td>\n",
       "      <td>CD, Album</td>\n",
       "      <td>2006</td>\n",
       "      <td>948733</td>\n",
       "      <td>Uncategorized</td>\n",
       "      <td>07/12/2019 22:11</td>\n",
       "      <td>2019-07-12</td>\n",
       "      <td>22:11:00</td>\n",
       "    </tr>\n",
       "    <tr>\n",
       "      <th>2</th>\n",
       "      <td>12K1032</td>\n",
       "      <td>Taylor Deupree + Kenneth Kirschner</td>\n",
       "      <td>Post_Piano 2</td>\n",
       "      <td>12k</td>\n",
       "      <td>CD, Album, Ltd</td>\n",
       "      <td>2005</td>\n",
       "      <td>464491</td>\n",
       "      <td>Uncategorized</td>\n",
       "      <td>20/12/2019 10:45</td>\n",
       "      <td>2019-12-20</td>\n",
       "      <td>10:45:00</td>\n",
       "    </tr>\n",
       "    <tr>\n",
       "      <th>3</th>\n",
       "      <td>12K1035</td>\n",
       "      <td>Sawako</td>\n",
       "      <td>Hum</td>\n",
       "      <td>12k</td>\n",
       "      <td>CD, Album, Ltd</td>\n",
       "      <td>2005</td>\n",
       "      <td>563530</td>\n",
       "      <td>Uncategorized</td>\n",
       "      <td>25/11/2019 00:07</td>\n",
       "      <td>2019-11-25</td>\n",
       "      <td>00:07:00</td>\n",
       "    </tr>\n",
       "    <tr>\n",
       "      <th>4</th>\n",
       "      <td>12K1040</td>\n",
       "      <td>Seaworthy</td>\n",
       "      <td>Map In Hand</td>\n",
       "      <td>12k</td>\n",
       "      <td>CD, Album, RE, RM</td>\n",
       "      <td>2006</td>\n",
       "      <td>828844</td>\n",
       "      <td>Uncategorized</td>\n",
       "      <td>25/11/2019 00:05</td>\n",
       "      <td>2019-11-25</td>\n",
       "      <td>00:05:00</td>\n",
       "    </tr>\n",
       "    <tr>\n",
       "      <th>...</th>\n",
       "      <td>...</td>\n",
       "      <td>...</td>\n",
       "      <td>...</td>\n",
       "      <td>...</td>\n",
       "      <td>...</td>\n",
       "      <td>...</td>\n",
       "      <td>...</td>\n",
       "      <td>...</td>\n",
       "      <td>...</td>\n",
       "      <td>...</td>\n",
       "      <td>...</td>\n",
       "    </tr>\n",
       "    <tr>\n",
       "      <th>694</th>\n",
       "      <td>XLLP868, XLLP868X</td>\n",
       "      <td>Radiohead</td>\n",
       "      <td>OK Computer OKNOTOK 1997 2017</td>\n",
       "      <td>XL Recordings, XL Recordings</td>\n",
       "      <td>3xLP, Album, Ltd, RE, RM, Blu</td>\n",
       "      <td>2017</td>\n",
       "      <td>10544976</td>\n",
       "      <td>Uncategorized</td>\n",
       "      <td>02/11/2019 11:08</td>\n",
       "      <td>2019-02-11</td>\n",
       "      <td>11:08:00</td>\n",
       "    </tr>\n",
       "    <tr>\n",
       "      <th>695</th>\n",
       "      <td>GR-021</td>\n",
       "      <td>Raum (4)</td>\n",
       "      <td>Daughter</td>\n",
       "      <td>Yellow Electric</td>\n",
       "      <td>LP, Ltd + LP, S/Sided + Album</td>\n",
       "      <td>2022</td>\n",
       "      <td>22631921</td>\n",
       "      <td>Uncategorized</td>\n",
       "      <td>13/11/2022 04:34</td>\n",
       "      <td>2022-11-13</td>\n",
       "      <td>04:34:00</td>\n",
       "    </tr>\n",
       "    <tr>\n",
       "      <th>696</th>\n",
       "      <td>yeb-7746</td>\n",
       "      <td>Jun Miyake</td>\n",
       "      <td>Lost Memory Theatre - Act-2</td>\n",
       "      <td>Yellowbird</td>\n",
       "      <td>CD, Album</td>\n",
       "      <td>2014</td>\n",
       "      <td>6969394</td>\n",
       "      <td>Uncategorized</td>\n",
       "      <td>07/12/2019 22:56</td>\n",
       "      <td>2019-07-12</td>\n",
       "      <td>22:56:00</td>\n",
       "    </tr>\n",
       "    <tr>\n",
       "      <th>697</th>\n",
       "      <td>MIR 100708</td>\n",
       "      <td>Эдуард Артемьев</td>\n",
       "      <td>Solaris - Music From The Motion Picture By And...</td>\n",
       "      <td>Мирумир</td>\n",
       "      <td>LP, Album</td>\n",
       "      <td>2013</td>\n",
       "      <td>4837043</td>\n",
       "      <td>Uncategorized</td>\n",
       "      <td>03/11/2019 10:53</td>\n",
       "      <td>2019-03-11</td>\n",
       "      <td>10:53:00</td>\n",
       "    </tr>\n",
       "    <tr>\n",
       "      <th>698</th>\n",
       "      <td>MIR100202</td>\n",
       "      <td>John Cage</td>\n",
       "      <td>Cheap Imitation</td>\n",
       "      <td>Мирумир</td>\n",
       "      <td>LP, Album, RE</td>\n",
       "      <td>2012</td>\n",
       "      <td>3773128</td>\n",
       "      <td>Uncategorized</td>\n",
       "      <td>31/10/2019 23:16</td>\n",
       "      <td>2019-10-31</td>\n",
       "      <td>23:16:00</td>\n",
       "    </tr>\n",
       "  </tbody>\n",
       "</table>\n",
       "<p>699 rows × 11 columns</p>\n",
       "</div>"
      ],
      "text/plain": [
       "                       Catalog#                              Artist  \\\n",
       "0    PIASV 007 CD, 946.0007.128                              Mogwai   \n",
       "1                        12t030                  Lost In Hildurness   \n",
       "2                       12K1032  Taylor Deupree + Kenneth Kirschner   \n",
       "3                       12K1035                              Sawako   \n",
       "4                       12K1040                           Seaworthy   \n",
       "..                          ...                                 ...   \n",
       "694           XLLP868, XLLP868X                           Radiohead   \n",
       "695                      GR-021                            Raum (4)   \n",
       "696                    yeb-7746                          Jun Miyake   \n",
       "697                  MIR 100708                     Эдуард Артемьев   \n",
       "698                   MIR100202                           John Cage   \n",
       "\n",
       "                                                 Title  \\\n",
       "0                                    My Father My King   \n",
       "1                                              Mount A   \n",
       "2                                         Post_Piano 2   \n",
       "3                                                  Hum   \n",
       "4                                          Map In Hand   \n",
       "..                                                 ...   \n",
       "694                      OK Computer OKNOTOK 1997 2017   \n",
       "695                                           Daughter   \n",
       "696                        Lost Memory Theatre - Act-2   \n",
       "697  Solaris - Music From The Motion Picture By And...   \n",
       "698                                    Cheap Imitation   \n",
       "\n",
       "                                                 Label  \\\n",
       "0    [PIAS] Recordings, [PIAS] Recordings, Rock Act...   \n",
       "1                                             12 Tónar   \n",
       "2                                                  12k   \n",
       "3                                                  12k   \n",
       "4                                                  12k   \n",
       "..                                                 ...   \n",
       "694                       XL Recordings, XL Recordings   \n",
       "695                                    Yellow Electric   \n",
       "696                                         Yellowbird   \n",
       "697                                            Мирумир   \n",
       "698                                            Мирумир   \n",
       "\n",
       "                            Format  Released  release_id CollectionFolder  \\\n",
       "0                   CD, EP, Single      2001      527808    Uncategorized   \n",
       "1                        CD, Album      2006      948733    Uncategorized   \n",
       "2                   CD, Album, Ltd      2005      464491    Uncategorized   \n",
       "3                   CD, Album, Ltd      2005      563530    Uncategorized   \n",
       "4                CD, Album, RE, RM      2006      828844    Uncategorized   \n",
       "..                             ...       ...         ...              ...   \n",
       "694  3xLP, Album, Ltd, RE, RM, Blu      2017    10544976    Uncategorized   \n",
       "695  LP, Ltd + LP, S/Sided + Album      2022    22631921    Uncategorized   \n",
       "696                      CD, Album      2014     6969394    Uncategorized   \n",
       "697                      LP, Album      2013     4837043    Uncategorized   \n",
       "698                  LP, Album, RE      2012     3773128    Uncategorized   \n",
       "\n",
       "           Date Added        date      Time  \n",
       "0    07/12/2019 22:43  2019-07-12  22:43:00  \n",
       "1    07/12/2019 22:11  2019-07-12  22:11:00  \n",
       "2    20/12/2019 10:45  2019-12-20  10:45:00  \n",
       "3    25/11/2019 00:07  2019-11-25  00:07:00  \n",
       "4    25/11/2019 00:05  2019-11-25  00:05:00  \n",
       "..                ...         ...       ...  \n",
       "694  02/11/2019 11:08  2019-02-11  11:08:00  \n",
       "695  13/11/2022 04:34  2022-11-13  04:34:00  \n",
       "696  07/12/2019 22:56  2019-07-12  22:56:00  \n",
       "697  03/11/2019 10:53  2019-03-11  10:53:00  \n",
       "698  31/10/2019 23:16  2019-10-31  23:16:00  \n",
       "\n",
       "[699 rows x 11 columns]"
      ]
     },
     "execution_count": 2,
     "metadata": {},
     "output_type": "execute_result"
    }
   ],
   "source": [
    "df=pd.read_csv('music_collection.csv')\n",
    "\n",
    "#Checking for nulls\n",
    "df.isnull().sum()\n",
    "\n",
    "cols_drop=['Rating','Collection Media Condition','Collection Sleeve Condition','Collection Notes']\n",
    "df=df.drop(cols_drop,axis=1)"
   ]
  },
  {
   "cell_type": "markdown",
   "id": "b20de0a5",
   "metadata": {},
   "source": [
    "### Date and time functions"
   ]
  },
  {
   "cell_type": "code",
   "execution_count": null,
   "id": "2ae63328",
   "metadata": {},
   "outputs": [],
   "source": [
    "def date_conv(df,date):\n",
    "    df['date']=pd.to_datetime(df['Date Added'])\n",
    "    df['date']=df['date'].dt.date\n",
    "    return df\n",
    "\n",
    "date_conv(df,'date')\n",
    "\n",
    "def time_conv(df,Time):\n",
    "    df['Time']=pd.to_datetime(df['Date Added'])\n",
    "    df['Time']=df['Time'].dt.time\n",
    "    return df\n",
    "\n",
    "time_conv(df,'Time')"
   ]
  },
  {
   "cell_type": "markdown",
   "id": "43f27ce4",
   "metadata": {},
   "source": [
    "### Translating and cleaning record labels and album titles"
   ]
  },
  {
   "cell_type": "code",
   "execution_count": 3,
   "id": "9d1b8999",
   "metadata": {},
   "outputs": [],
   "source": [
    "translator=Translator()"
   ]
  },
  {
   "cell_type": "code",
   "execution_count": 6,
   "id": "e3a30307",
   "metadata": {},
   "outputs": [
    {
     "name": "stdout",
     "output_type": "stream",
     "text": [
      "{'[PIAS] Recordings, [PIAS] Recordings, Rock Action Records, Rock Action Records': '[PIAS] Recordings, [PIAS] Recordings, Rock Action Records, Rock Action Records', '12 Tónar': '12 Tones', '12k': '12k', '130701': '130701', '1703 Skivbolaget': '1703 The record company', '20|20|20': '20|20|20', '2nd Rec': '2nd Rec', '4AD': '4AD', '4AD, 4AD': '4AD, 4AD', '52Hz': '52Hz', '52Hz, 52Hz': '52Hz, 52Hz', '8mm Records': '8mm Records', 'A&M Records, UMe': 'A&M Records, UMe', 'Aagoo Records, REV. Laboratories': 'Aagoo Records, REV. Laboratories', 'Aerophonic Records': 'Aerophonic Records', 'Alegra': 'Alegra', 'Alien8 Recordings': 'Alien8 Recordings', 'All Is Number Records': 'All Is Number Records', 'Another Timbre': 'Another Timbre', 'Anti-': 'Anti-', 'Anticipate Recordings': 'Anticipate Recordings', 'Anticon, Alien Transistor': 'Anticon, Alien Transistor', 'Antifrost': 'Antifrost', 'Arbor': 'Arbor', 'Argeïphontes': 'Argeïphontes', 'Ars Benevola Mater': 'The Art of the Benevolent Mother', 'Asphodel': 'Asphodel', 'Astral Spirits': 'Astral Spirits', 'Aurora (5)': 'Aurora (5)', 'AV Recordings': 'AV Recordings', 'Ba Da Bing!': \"Don't Bing!\", 'Bargeld Entertainment': 'Cash Entertainment', 'Bedroom Community': 'Bedroom Community', 'Bedroom Community, Bedroom Community': 'Bedroom Community, Bedroom Community', 'Bedroom Community, Mute': 'Bedroom Community, Mute', 'Beggars Banquet': 'Beggars Banquet', 'Beggars Banquet, Sub Pop': 'Beggars Banquet, Sub Pop', 'Bella Union': 'Bella Union', 'Berlin Atonal Recordings': 'Berlin Atonal Recordings', 'BineMusic': 'BineMusic', 'Birdman Records, Ectopic Ents': 'Birdman Records, Ectopic Ents', 'Black Truffle': 'Black Truffle', 'Blackest Ever Black': 'Blackest Ever Black', 'Blank Forms Editions': 'Blank Forms Editions', 'Blank Forms Editions, Blank Forms Editions, INA': 'Blank Forms Editions, Blank Forms Editions, INA', 'Blast First': 'Blast First', 'Blume': 'Blume', \"Bo'Weavil Recordings\": \"Bo'Weavil Recordings\", 'Boomkat Editions': 'Boomkat Editions', 'BPitch Control': 'BPitch Control', 'Brassland': 'Brassland', 'Bureau B': 'Bureau B', 'Capitol Records': 'Capitol Records', 'Capitol Records, Capitol Records': 'Capitol Records, Capitol Records', 'Capitol Records, EMI Music Canada': 'Capitol Records, EMI Music Canada', 'Caprice Records': 'Caprice Records', 'Carpark Records': 'Carpark Records', 'Castle Music': 'Castle Music', 'Chapter Music': 'Chapter Music', 'Chemikal Underground': 'Chemikal Underground', 'Chrysalis': 'Chrysalis', 'City Centre Offices': 'City Centre Offices', 'City Slang': 'City Slang', 'City Slang, Virgin': 'City Slang, Virgin', 'Clapping Music': 'Clapping Music', 'Cocosolidciti': 'Cocosolidciti', 'Cold Spring': 'Cold Spring', 'Columbia': 'Columbia', 'Columbia Masterworks': 'Columbia Masterworks', 'Commmons': \"Let's common\", 'Concrete, Deconstruction': 'Concrete, Deconstruction', 'Conspiracy International': 'Conspiracy International', 'Conspiracy Records (2)': 'Conspiracy Records (2)', 'Constellation': 'Constellation', 'Control Freak Kitten Records': 'Control Freak Kitten Records', 'Coptic Cat': 'Coptic Cat', 'Cosmo Rhythmatic': 'Cosmo Rhythmatic', 'Creative Space Records': 'Creative Space Records', 'Crónica': 'Chronicle', 'Dais Records': 'Dais Records', 'Dancing Wayang': 'Dancing Puppet', 'Darla Records': 'Darla Records', 'Death Is Not The End': 'Death Is Not The End', 'Decca': 'Decca', 'Decca, Decca': 'Decca, Decca', 'Deconstruction, Concrete': 'Deconstruction, Concrete', 'Dekorder': 'decorder', 'Denovali Records': 'Denovali Records', 'Deutsche Grammophon': 'German gramophone', 'Digitalis Recordings': 'Digitalis Recordings', 'Discipline Global Mobile, Opal Records': 'Discipline Global Mobile, Opal Records', 'DOL': 'DOL', 'Domino': 'Domino', 'Domino, Domino': 'Domino, Domino', 'Domino, Domino, Domino': 'Domino, Domino, Domino', 'Don Giovanni Records': 'Don Giovanni Records', 'Doxy': 'Doxy', 'Doxy, Doxy': 'Doxy, Doxy', 'Drag City': 'Drag City', 'Durtro': 'Durtro', 'Eclipse Records (3)': 'Eclipse Records (3)', 'ECM Records, ECM Records': 'ECM Records, ECM Records', 'Ecstatic': 'Ecstatic', 'Edition Gamut': 'Edition Gamut', 'Editions Mego': 'Mego Editions', 'Elektra': 'Elektra', 'EMI': 'EMI', 'EMI (2)': 'EMI (2)', 'EMI United Kingdom, EMI United Kingdom': 'EMI United Kingdom, EMI United Kingdom', 'EMI, EMI': 'ME, ME', 'EMI, EMI, EMI': 'I, I, I, I', 'Empty Editions': 'Empty Editions', 'Epic': 'Epic', 'Epic, Epic': 'Epic, Epic', 'Erased Tapes Records': 'Erased Tapes Records', 'Erased Tapes Records, Erased Tapes Records': 'Erased Tapes Records, Erased Tapes Records', 'ESP Disk': 'ESP Disk', 'Ever Records, Ever Records': 'Ever Records, Ever Records', 'Fantasy': 'Fantasy', 'FatCat Records': 'FatCat Records', 'FatCat Records, [PIAS] Recordings': 'FatCat Records, [PIAS] Recordings', 'FatCat Records, [PIAS] Recordings, [PIAS] Recordings': 'FatCat Records, [PIAS] Recordings, [PIAS] Recordings', 'FatCat Records, FatCat Records': 'FatCat Records, FatCat Records', 'Fire Records': 'Fire Records', 'Fonal Records': 'Fonal Records', 'Gagarin Records': 'Gagarin Records', 'Gate (6)': 'Gate (6)', 'Gate (6), Gate (6)': 'Gate (6), Gate (6)', 'Geffen Records': 'Geffen Records', 'Geffen Records, Geffen Records, Geffen Records, DGC, DGC, Sub Pop': 'Geffen Records, Geffen Records, Geffen Records, DGC, DGC, Sub Pop', 'Ghostly International': 'Ghostly International', 'Glitterhouse Records': 'Glitterhouse Records', 'Go! Beat': 'Go! Beat', 'Grand Royal, Capitol Records': 'Grand Royal, Capitol Records', 'Grönland Records': 'Greenland Records', 'Grönland Records, Grönland Records': 'Greenland Records, Greenland Records', 'Hallow Ground': 'Hallow Ground', 'Häpna': 'Amazed', 'hatOLOGY': 'hatology', 'Hefty Records': 'Hefty Records', 'History Always Favours The Winners': 'History Always Favours The Winners', 'Hitch-Hyke Records': 'Hitch-Hyke Records', 'Holy Mountain': 'Holy Mountain', \"Honest Jon's Records\": \"Honest Jon's Records\", 'Hospital Productions': 'Hospital Productions', 'Hyperdub': 'Hyperdub', \"Ici D'Ailleurs\": 'Here From Elsewhere', \"Ici d'ailleurs\": 'Here by the way', \"Ici D'Ailleurs, Vicious Circle (2), Discograph\": \"Ici D'Ailleurs, Vicious Circle (2), Discograph\", 'iDEAL Recordings': 'iDEAL Recordings', 'Ideologic Organ': 'Ideological Organ', 'If.Then.Else Records': 'If.Then.Else Records', 'Imbalance Computer Music': 'Imbalance Computer Music', 'Immune': 'Immune', 'Important Records (2)': 'Important Records (2)', 'Important Records (2), DCA (3)': 'Important Records (2), DCA (3)', 'Impulse!': 'Impulse!', 'Impulse!, Verve Records': 'Impulse!, Verve Records', 'In Paradisum': 'In Paradise', 'Infectious Records': 'Infectious Records', 'Infinite Fog Productions': 'Infinite Fog Productions', 'Instant Classic': 'Instant Classic', 'Intakt Records': 'Intact Records', 'Intergalactic Mantra Recording Co.': 'Intergalactic Mantra Recording Co.', 'Intergalactic Mantra Recording Co., Intergalactic Mantra Recording Co., Rundfunk Berlin-Brandenburg, !K7 Records': 'Intergalactic Mantra Recording Co., Intergalactic Mantra Recording Co., Rundfunk Berlin-Brandenburg, !K7 Records', 'International Anthem Recording Company': 'International Anthem Recording Company', 'International Anthem Recording Company, Don Giovanni Records': 'International Anthem Recording Company, Don Giovanni Records', 'International Anthem Recording Company, International Anthem Recording Company': 'International Anthem Recording Company, International Anthem Recording Company', 'Intr_version Records': 'Intr_version Records', 'Island Records': 'Island Records', 'Island Records, Island Records': 'Island Records, Island Records', 'Island Records, Universal Music Catalogue, BBC': 'Island Records, Universal Music Catalogue, BBC', 'Jazzwerkstatt, Jazzwerkstatt': 'Jazzworkshop, Jazzworkshop', 'Jetset Records': 'Jetset Records', 'Klik Records': 'Click Records', 'Kling Klang, Parlophone': 'Sound sound, parlophone', 'Kompakt': 'Compact', 'Kranky': 'Cranks', 'Kranky, Kranky': 'Cranks, Cranks', 'Kranky, Sunblind Music': 'Kranky, Sunblind Music', 'Kranky, Yellow Electric': 'Kranky, Yellow Electric', 'Lakeshore Records, Invada Records UK': 'Lakeshore Records, Invada Records UK', 'Lampse': 'Shine', 'Late Junction': 'Late Junction', 'Late Music': 'Late Music', 'Late Music, Late Music': 'Late Music, Late Music', 'Late Music, Late Music, Late Music, Late Music': 'Late Music, Late Music, Late Music, Late Music', 'Leaf': 'Leaf', 'Leaf, Skintone': 'Leaf, Skintone', 'Lejos Discos': 'Away Discs', \"Les Disques Du Soleil Et De L'Acier\": 'The Discs of the Sun and Steel', \"Let's Rock! Records\": \"Let's Rock! Records\", 'Lidar': 'Lidar', 'light-years': 'light-years', 'Line': 'Line', 'Line, Line': 'Line, Line', 'Locust Music': 'Locust Music', 'London Records, Slash': 'London Records, Slash', 'Lost Dog Recordings': 'Lost Dog Recordings', 'Luaka Bop': 'Luaka Bop', 'LuckyMe': 'LuckyMe', 'Lumberton Trading Company': 'Lumberton Trading Company', 'Lumenessence Recordings': 'Lumenessence Recordings', 'Madrona Records': 'Madrona Records', 'Mantra Recordings, MFS (2)': 'Mantra Recordings, MFS (2)', 'Matador': 'Matador', 'MCA Records, FatCat Records, [PIAS] Recordings, MCA Records, FatCat Records, [PIAS] Recordings': 'MCA Records, FatCat Records, [PIAS] Recordings, MCA Records, FatCat Records, [PIAS] Recordings', 'Mego': 'Mego', 'Merge Records': 'Merge Records', 'Miasmah': 'Miasmah', 'Miasmah, Miasmah': 'Miasmah, Miasmah', 'Microcosm Music': 'Microcosm Music', 'MIE Music': 'MIE Music', 'Mode': 'Mode', 'Modern Love': 'Modern Love', 'Monika Enterprise': 'Monika Enterprise', 'Morr Music': 'Morr Music', 'Mort Aux Vaches': 'Death to cows', 'Moving Furniture Records': 'Moving Furniture Records', 'Music Chicken, Wax Records (6), S7': 'Music Chicken, Wax Records (6), S7', 'Music On Vinyl': 'Music On Vinyl', 'Mute': 'Mute', 'Mute, Mute': 'Mute, Mute', 'Mute, Mute, Sum Records (2)': 'Mute, Mute, Sum Records (2)', 'n5MD': 'We go down', 'Naïve': 'Naïve', 'NAKID': 'NAKID', 'Narwhal Recordings, Narwhal Recordings': 'Narwhal Recordings, Narwhal Recordings', 'New Albion': 'New Albion', 'Nimbus West Records, Nimbus West Records': 'Nimbus West Records, Nimbus West Records', 'Ninja Tune': 'Ninja Tune', 'Ninja Tune, Ninja Tune': 'Ninja Tune, Ninja Tune', 'No Quarter': 'No Quarter', 'NoBusiness Records': 'NoBusiness Records', 'Nonesuch': 'Nonesuch', 'Nonplace': 'Nonplace', 'Not Not Fun Records': 'Not Not Fun Records', 'Not On Label (Amiina Self-released)': 'Not On Label (Amiina Self-released)', 'Not On Label (Arcade Fire Self-released)': 'Not On Label (Arcade Fire Self-released)', 'Not On Label (Blow Up Hollywood Self-released)': 'Not On Label (Blow Up Hollywood Self-released)', 'Not On Label (Valentina Magaletti Self-Released)': 'Not On Label (Valentina Magaletti Self-Released)', 'Noton': 'A note', 'Ogun': 'Ogun', 'Old Europa Cafe': 'Old Europa Cafe', 'One Little Indian': 'One Little Indian', 'Onedotzero': 'Onedotzero', 'Opal Records, UMC': 'Opal Records, UMC', 'ORG Music, Freedom': 'ORG Music, Freedom', 'Otoroku': 'sound 6', 'Outernational Sounds': 'Outernational Sounds', 'Palilalia Records': 'Palilalia Records', 'Pan (3)': 'Pan (3)', 'Pan (3), Pan (3)': 'Bread (3), Bread (3)', 'Paper Cup': 'Paper Cup', 'Parlophone': 'Parlophone', 'Parlophone, Krúnk': 'Parlophone, Krúnk', 'Parlophone, Parlophone': 'Parlophone, Parlophone', 'Penultimate Press': 'Penultimate Press', 'Phantasy Sound, Mute': 'Phantasy Sound, Mute', 'Planet Mu': 'Planet Mu', 'Pomperipossa Records': 'Pomperipossa Records', 'Portraits GRM': 'Portraits GRM', 'Preservation': 'Preservation', 'Prikosnovénie': 'Prikosnovénie', 'Primary Information': 'Primary Information', 'Pumpkin Seeds In The Sand': 'Pumpkin Seeds In The Sand', 'Quarterstick Records': 'Quarterstick Records', 'Quarterstick Records, Quarterstick Records': 'Quarterstick Records, Quarterstick Records', 'Raster-Noton': 'Raster-Noton', 'Raster-Noton, Raster-Noton': 'Raster-Noton, Raster-Noton', 'Raster-Noton, Raster-Noton, Raster-Noton': 'Raster-Noton, Raster-Noton, Raster-Noton', 'Recital (2)': 'Recital (2)', 'Record Makers': 'Record Makers', 'Red Square, Silent Age': 'Red Square, Silent Age', 'ReR Megacorp': 'ReR Megacorp', 'Resonant': 'Resonant', 'Restless Records': 'Restless Records', 'Rewire': 'Rewire', 'Rhino Records (2), Atlantic': 'Rhino Records (2), Atlantic', 'Rock Action Records': 'Rock Action Records', 'Room40': 'Room40', 'Rough Trade': 'Rough Trade', 'Rough Trade, Rough Trade': 'Rough Trade, Rough Trade', 'RROOPP': 'RROOPP', 'Rune Grammofon': 'Rune Gramophone', 'Rune Grammofon, Rune Grammofon': 'Runic Gramophone, Runic Gramophone', 'Rush Hour (4)': 'Rush Hour (4)', 'Rvng Intl.': 'Rvng Intl.', 'RVNG Intl.': 'RVNG Intl.', 'S2 Records': 'S2 Records', 'Sähkö Recordings, Sähkö Recordings, Sähkö Recordings, Sähkö Recordings': 'Sähkö Recordings, Sähkö Recordings, Sähkö Recordings, Sähkö Recordings', 'Secretly Canadian': 'Secretly Canadian', 'Sedimental': 'Sedimental', 'Setanta': 'seventy', 'Shelter Press': 'Shelter Press', 'Smalltown Supersound': 'Smalltown Supersound', 'SMTG Limited': 'SMTG Limited', 'Sonic Unyon': 'Eunyoung', 'Sony Music Entertainment (Greece) Α.Ε.': 'Sony Music Entertainment (Greece) Α.Ε.', 'Soul Jazz Records': 'Soul Jazz Records', 'Source, Source': 'Source, Source', 'Southern Lord': 'Southern Lord', 'Southpaw Recordings, [PIAS] Recordings': 'Southpaw Recordings, [PIAS] Recordings', 'Space Age Recordings': 'Space Age Recordings', 'Spekk': 'Bacon', 'Spoon Records, Mute, Spoon Records, Mute': 'Spoon Records, Mute, Spoon Records, Mute', 'Static Caravan': 'Static Caravan', 'Staubgold': 'Staubgold', 'Strut': 'Strut', 'Strut, Art Yard': 'Strut, Art Yard', 'Strut, Art Yard, Philly Jazz (3)': 'Strut, Art Yard, Philly Jazz (3)', 'Students Of Decay': 'Students Of Decay', 'Sub Rosa': 'Sub Pink', 'Superior Viaduct': 'Superior Viaduct', 'Sustain-Release': 'Sustain-Release', 'Table Of The Elements, Table Of The Elements': 'Table Of The Elements, Table Of The Elements', 'Talitres Records': 'Talitres Records', 'Temporary Residence Limited': 'Temporary Residence Limited', 'Temporary Residence Limited, Brainwashed Recordings': 'Temporary Residence Limited, Brainwashed Recordings', 'Terp Records': 'Terp Records', 'The Thing Records': 'The Thing Records', \"The Worker's Institute\": \"The Worker's Institute\", 'Three Lobed Recordings': 'Three Lobed Recordings', 'Thrill Jockey': 'Thrill Jockey', 'Tippy Toe': 'Tippy Toe', 'Tompkins Square': 'Tompkins Square', 'Tompkins Square, Sustain-Release': 'Tompkins Square, Sustain-Release', 'Too Pure': 'Too Pure', 'Touch': 'Touch', 'Touch And Go': 'Touch And Go', 'Trost Records': 'Trost Records', 'tUMULt': 'tUMULt', 'Type': 'Type', 'Type, Type': 'Type, Type', 'Tzadik': 'Zadik', 'Vertigo': 'Vertigo', 'Vinyl Passion': 'Vinyl Passion', 'Virgin EMI Records': 'Virgin EMI Records', 'Virgin, Virgin': 'Virgin, Virgin', 'W.25th': 'W.25th', 'W.25TH': 'W.25TH', 'Wagon': 'Wagon', 'Warp Records': 'Warp Records', 'Warp Records, Music70': 'Warp Records, Music70', 'Western Vinyl': 'Western Vinyl', 'XKatedral': 'XCathedral', 'XL Recordings': 'XL Recordings', 'XL Recordings, XL Recordings': 'XL Recordings, XL Recordings', 'Yellow Electric': 'Yellow Electric', 'Yellowbird': 'Yellowbird', 'Мирумир': 'Peaceful', 'My Father My King': 'My Father My King', 'Mount A': 'Mount A', 'Post_Piano 2': 'Post_Piano 2', 'Hum': 'Hum', 'Map In Hand': 'Map In Hand', 'Ocean Fire': 'Ocean Fire', 'Box Music': 'Box Music', 'A Colour For Autumn': 'A Colour For Autumn', 'The Blue Notebooks': 'The Blue Notebooks', 'Room To Expand': 'Room To Expand', 'Centres': 'Centres', 'Thresholder': 'Thresholder', 'Music For Magnesium_173': 'Music For Magnesium_173', 'The Air Around Her': 'The Air Around Her', 'The Earth Is Blue': 'The Earth Is Blue', 'Punk ... Not Diet!': 'Punk ... Not Diet!', 'Misery Is A Butterfly': 'Misery Is A Butterfly', \"IBM 1401, A User's Manual\": \"IBM 1401, A User's Manual\", 'Platform': 'Platform', 'Love Streams': 'Love Streams', \"Sorrow (A Reimagining Of Gorecki's 3rd Symphony)\": \"Sorrow (A Reimagining Of Gorecki's 3rd Symphony)\", 'All This I Do For Glory': 'All This I Do For Glory', 'Ithaca': 'Ithaca', 'Don Cherry': 'Don Cherry', 'First Chapter': 'First Chapter', 'Of Things Beyond Thule Vol. 1': 'Of Things Beyond Thule Vol. 1', \"From Rock'N'Roll To Heavy Metal\": \"From Rock'N'Roll To Heavy Metal\", 'Fantasma Parastasie': 'Ghost Show', 'Northern Song Dynasty': 'Northern Song Dynasty', 'Number Pieces': 'Number Pieces', 'Alice': 'Alice', 'Black Encyclopedia Of The Air': 'Black Encyclopedia Of The Air', 'Jazz Codes': 'Jazz Codes', 'Inland': 'Inland', 'Acre Loss': 'Acre Loss', '13 & God': '13 & God', 'Lamnè Gastama - 34ºN-42ºN/19ºE-29ºE Study Vol.2': 'Lamnè Gastama - 34ºN-42ºN/19ºE-29ºE Study Vol.2', 'Outer Space': 'Outer Space', 'À La Recherche Du Temps Perdu': 'In Search of Lost Time', 'Erika Szobája': \"Erika's Room\", 'Mini Movies': 'Mini Movies', 'Good Days': 'Good Days', 'Kraftfelt': 'Force field', 'Equilibratura Elettronica': 'Electronic Balancing', 'Seasons': 'Seasons', 'Gave In Rest': 'Gave In Rest', 'Gulag Orkestar': 'Gulag Orchestra', 'Rede / Speech': 'Rede / Speech', 'Theory Of Machines': 'Theory Of Machines', 'Speaks Volumes': 'Speaks Volumes', 'Ekvílibríum': 'Equilibrium', 'By The Throat': 'By The Throat', 'A U R O R A': 'A U R O R A', \"Don't Even Go There\": \"Don't Even Go There\", 'My Oblivion': 'My Oblivion', 'Trouble Every Day (Original Soundtrack)': 'Trouble Every Day (Original Soundtrack)', 'Waiting For The Moon': 'Waiting For The Moon', 'Bareback (Nine Films By Martin Wallace)': 'Bareback (Nine Films By Martin Wallace)', 'What Is A Man': 'What Is A Man', \"I'll Take Care Of You\": \"I'll Take Care Of You\", 'Second Storey': 'Second Storey', '2.5082E+16': 'A.5082y+16', 'Rockets, Unto The Edges Of Edges': 'Rockets, Unto The Edges Of Edges', 'Vein': 'Vein', 'Stacte.3': 'Stacte.3', 'Patience Soup': 'Patience Soup', 'Live Hubris': 'Live Hubris', 'Tooth': 'Tooth', 'The Summer House Sessions': 'The Summer House Sessions', 'Organic Music Theatre (Festival De Jazz De Chateauvallon 1972)': 'Organic Music Theatre (Festival De Jazz De Chateauvallon 1972)', 'Mi Media Naranja': 'My half orange', 'Embedded Environments': 'Embedded Environments', 'Canti Illuminati': 'Enlightened Songs', 'Dream Request': 'Dream Request', 'Grafts': 'Grafts', 'Spellewauerynsherde': 'Spellewauerynsherde', 'Sing As The Crow Flies': 'Sing As The Crow Flies', 'Symptoms': 'Symptoms', 'Lantern': 'Lantern', 'Tape Archive Essence 1973-1978': 'Tape Archive Essence 1973-1978', 'Cluster & Eno': 'Cluster and Eno', 'Dreamt For Light Years In The Belly Of A Mountain': 'Dreamt For Light Years In The Belly Of A Mountain', \"It's A Wonderful Life\": \"It's A Wonderful Life\", 'Kid A (Book And Compact Disc)': 'Kid A (Book And Compact Disc)', 'She Hangs Brightly': 'She Hangs Brightly', 'Among My Swan': 'Among My Swan', 'Electriclarryland': 'Electriclarryland', 'Live In Stockholm': 'Live In Stockholm', 'October Language': 'October Language', 'Song To Comus (The Complete Collection)': 'Song To Comus (The Complete Collection)', 'Live Wanderus': 'Live Wanderus', 'Young Team': 'Young Team', 'Come On Die Young': 'Come On Die Young', 'Alcoholic': 'Alcoholic', 'Gehen': 'Go', 'Sekunden': 'seconds', 'Into The Blue Again': 'Into The Blue Again', 'Friend And Foe': 'Friend And Foe', 'Neon Golden': 'Neon Golden', 'Flux': 'Flux', 'Ghost Storeys': 'Ghost Storeys', 'Vloed': 'Flood', 'Stolen & Contaminated Songs': 'Stolen and Contaminated Songs', 'Πολιτεία': 'State', 'Blue Sky Mining': 'Blue Sky Mining', 'The World Of Harry Partch': 'The World Of Harry Partch', 'Koko': 'Size', 'Out Of Noise': 'Out Of Noise', 'Dead Elvis': 'Dead Elvis', 'Time To Tell': 'Time To Tell', 'Hidden Between Sleeves': 'Hidden Between Sleeves', 'Born Into Trouble As The Sparks Fly Upward.': 'Born Into Trouble As The Sparks Fly Upward.', 'This Is Our Punk-Rock, Thee Rusted Satellites Gather+Sing,': 'This Is Our Punk-Rock, Thee Rusted Satellites Gather+Sing,', 'The \"Pretty Little Lightning Paw\" E.P.': 'The \"Pretty Little Lightning Paw\" E.P.', 'Horses In The Sky': 'Horses In The Sky', 'Kollaps Tradixionales': 'Collapse of tradition', 'Never Were The Way She Was': 'Never Were The Way She Was', 'Music For Film And Theatre': 'Music For Film And Theatre', 'Baalstorm, Sing Omega': 'Baalstorm, Sing Omega', 'Peau Froide, Léger Soleil': 'Cold Skin, Light Sun', 'Simulated': 'Simulated', 'Hidden Name': 'Hidden Name', 'Time Machines': 'Time Machines', 'A Thousand Lights In A Darkened Room': 'A Thousand Lights In A Darkened Room', 'Musick To Play In The Dark': 'Musick To Play In The Dark', 'Musick To Play In The Dark²': 'Musick To Play In The Dark²', 'Constant Shallowness Leads To Evil': 'Constant Shallowness Leads To Evil', 'Alps': 'Alps', 'Antarctica (The Bliss Out, Vol. 2)': 'Antarctica (The Bliss Out, Vol. 2)', 'In The Mist': 'In The Mist', 'London Pirate Radio Adverts 1984-1993, Vol. 1': 'London Pirate Radio Adverts 1984-1993, Vol. 1', 'Playing The Piano / Out Of Noise': 'Playing The Piano / Out Of Noise', 'Cinema': 'Cinema', 'The Contino Sessions': 'The Contino Sessions', 'Pause For The Jet': 'Pause For The Jet', 'Phantom Ghost': 'Phantom Ghost', 'The Alvaret Ensemble': 'The Alvaret Ensemble', 'Tiento De Las Nieves': 'Tiento Of The Snows', 'Englabörn & Variations': 'Englabörn & Variations', 'Tabula Rasa, Fratres, Symphony No. 3': 'Tabula Rasa, Brothers, Symphony No. 3', 'Black Swallow & Other Songs': 'Black Swallow & Other Songs', '(No Pussyfooting)': '(No Pussyfooting)', 'Blue Train ': 'Blue Train', 'Collected Works: Ghost / You Guys Kill Me / Little Lost Soul': 'Collected Works: Ghost / You Guys Kill Me / Little Lost Soul', 'Rounds': 'Rounds', 'Dongs Of Sevotion': 'Dongs Of Sevotion', 'The Blossom Filled Streets': 'The Blossom Filled Streets', 'Rain On Lens': 'Rain On Lens', 'The Sand And The Stars': 'The Sand And The Stars', 'The Sun': 'The Sun', 'Lodestar': 'loadstar', 'Fetish Bones': 'Fetish Bones', 'Circuit City': 'Circuit City', 'Symphonie Pour Un Homme Seul / Concerto Des Ambiguïtés': 'Symphony for a Single Man / Concerto of Ambiguities', 'Le Voyage': 'The trip', 'Hypnotic Underworld': 'Hypnotic Underworld', 'Have One On Me': 'Have One On Me', 'Reaching For Indigo ': 'Reaching For Indigo', 'Shebang': 'Shebang', 'Soft Black Stars': 'Soft Black Stars', 'Ballads Of Living And Dying': 'Ballads Of Living And Dying', 'The Saga Of Mayflower May': 'The Saga Of Mayflower May', 'The Melody At Night, With You': 'The Melody At Night, With You', 'Epigraphs': 'Epigraphs', 'Cartography': 'Cartography', 'Lebroba': 'Leprosy', 'Laced With Rumour: Loud-Speaker Of Truth': 'Laced With Rumour: Loud-Speaker Of Truth', '\"Akisakila\" / Attitudes\\u200b \\u200bOf Preparation (Mountains, Oceans, Trees) ': '\"Akisakila\" / Attitudes\\u200b \\u200bOf Preparation (Mountains, Oceans, Trees)', 'Endless Summer': 'Endless Summer', 'Hubris': 'Hubris', 'Altars Of Science': 'Altars Of Science', 'Kalmukia': 'Kalmykia', 'Hedonism': 'Hedonism', 'UUUU': 'UUUU', 'CoHgs': 'CoHgs', 'Ecstatic Computation': 'Ecstatic Computation', 'Simian Angel': 'Simian Angel', 'Fantas Variations': 'Fantas Variations', 'Magic & Return': 'Magic & Return', 'High/Low': 'High/Low', 'In Rock': 'In Rock', 'Machine Head': 'Machine Head', 'The Wall': 'The Wall', 'Takk...': 'Thanks...', 'Heima': 'Home', 'Hvarf - Heim': 'Gone - Home', 'Hobo Sapiens': 'Hobo Wise', 'Hoppípolla': 'Hoppípolla', 'Sæglópur': 'sea \\u200b\\u200bfool', 'Queen': 'Queen', 'Last Signs Of Speed': 'Last Signs Of Speed', 'Home Alive -  The Art Of Self Defense': 'Home Alive -  The Art Of Self Defense', 'Dust': 'Dust', '4 Hands': '4 Hands', 'Atomos VII': 'Person II', 'We Are On The Edge (A 50th Anniversary Celebration)': 'We Are On The Edge (A 50th Anniversary Celebration)', 'Solo': 'Solo', 'Oxtirn': 'Oxtirn', 'Kurr': 'never', 'A Charlie Brown Christmas ': 'A Charlie Brown Christmas', 'Evil Ones And Zeroes': 'Evil Ones And Zeroes', 'Ágætis Byrjun': 'Good start', 'Many In High Places Are Not Well': 'Many In High Places Are Not Well', 'Angels Of The Universe': 'Angels Of The Universe', 'Untitled #1 (Vaka)': 'Untitled #1 (Vaka)', '( )': '( )', 'Ný Batterí': 'New batteries', '400 Winters EP': '400 Winters EP', 'Codename: Dustsucker': 'Codename: Dustsucker', 'A Love Cycle': 'A Love Cycle', 'Palaa Aurinkoon': 'Return to the Sun', 'Historische Aufnahmen - Historical Recordings 1': 'Historical Recordings 1', 'A 480': 'A 480', 'Aftertouches': 'Aftertouches', 'Ba Ba Ti Ki Di Do': 'If It Has Been Done', 'In Utero': 'In Utero', 'Nevermind': 'Nevermind', 'Twine': 'Twine', 'Collected Pieces: 2015–2020': 'Collected Pieces: 2015–2020', 'Unsung Heroine': 'Unsung Heroine', 'Waiting For The Bricks To Fall': 'Waiting For The Bricks To Fall', 'Out Of Season': 'Out Of Season', 'Elephant Shoe': 'Elephant Shoe', 'Roseland NYC Live': 'Roseland NYC Live', 'Tibetan Freedom Concert': 'Tibetan Freedom Concert', 'Live 1974': 'Live 1974', \"Neu! '75\": \"Neu! '75\", 'Cast Of Mind': 'Cast Of Mind', 'A Year Of The Aural Gauge Operation': 'A Year Of The Aural Gauge Operation', 'Between Neck & Stomach': 'Between Neck & Stomach', 'Tongue Tied': 'Tongue Tied', 'Field': 'Field', 'Odori': 'Smells', 'An Empty Bliss Beyond This World': 'An Empty Bliss Beyond This World', 'Patience (After Sebald)': 'Patience (After Sebald)', 'Everywhere At The End Of Time - Stage 2': 'Everywhere At The End Of Time - Stage 2', 'Everywhere At The End Of Time - Stage 3': 'Everywhere At The End Of Time - Stage 3', 'Everywhere At The End Of Time - Stage 4': 'Everywhere At The End Of Time - Stage 4', 'Everywhere At The End Of Time - Stage 5': 'Everywhere At The End Of Time - Stage 5', 'Sixteen Haiku & Other Stories': 'Sixteen Haiku & Other Stories', 'Exterminating Angel': 'Exterminating Angel', 'For Octavio Paz': 'For Octavius \\u200b\\u200bPaz', 'More Moondog': 'More Moondog', 'American Zen': 'American Zen', 'Young Death / Nightmarket': 'Young Death / Nightmarket', 'Drinking Songs': 'Drinking Songs', 'The Dark Age Of Love': 'The Dark Age Of Love', 'Yann Tiersen & Shannon Wright': 'Yann Tiersen & Shannon Wright', 'Aleph-1': 'Aleph-1', 'The Sacrificial Code': 'The Sacrificial Code', 'Unfold': 'Unfold', 'Does Spring Hide Its Joy': 'Does Spring Hide Its Joy', 'Placelessness': 'Placelessness', 'Private Times In Public Places': 'Private Times In Public Places', 'Layering Buddha': 'Layering Buddha', 'Reverie': 'Reverie', 'Open Cast Heart EP': 'Open Cast Heart EP', 'ABECEDA': 'ALPHABET', 'Matricaria': 'Matricaria', 'Strings Of Consciousness & Angel': 'Strings Of Consciousness & Angel', 'Black To The Future': 'Black To The Future', 'Protect Your Light': 'Protect Your Light', 'Your Queen Is A Reptile': 'Your Queen Is A Reptile', 'Verdaillon': 'Verdaillon', 'Flight Paths': 'Flight Paths', \"Sara Dale's Sensual Massage\": \"Sara Dale's Sensual Massage\", 'The New Backwards': 'The New Backwards', 'The Ape Of Naples': 'The Ape Of Naples', \"Love's Secret Domain\": \"Love's Secret Domain\", 'III ': 'III', 'Lonelyville': 'Lonelyville', 'Requiem For Jazz': 'Requiem For Jazz', 'Live': 'Live', 'Where Future Unfolds': 'Where Future Unfolds', 'Ism': 'Ism', 'Now': 'Now', 'Fly Or Die Live': 'Fly Or Die Live', 'Fly Or Die Fly Or Die Fly Or Die ((World War))': 'Fly Or Die Fly Or Die Fly Or Die ((World War))', 'Transition East': 'Transition East', 'The Oracle': 'The Oracle', 'Open The Gates': 'Open The Gates', 'Irreversible Entanglements': 'Irreversible Entanglements', 'Who Sent You?': 'Who Sent You?', 'Fly Or Die': 'Fly Or Die', 'Fly Or Die II: Bird Dogs Of Paradise': 'Fly Or Die II: Bird Dogs Of Paradise', 'Tour Beats Vol. 1': 'Tour Beats Vol. 1', 'The Sea Horse Limbo': 'The Sea Horse Limbo', 'Magic Doors': 'Magic Doors', 'Working For The Man': 'Working For The Man', 'Tindersticks': 'Tindersticks', 'Nénette Et Boni': 'Nenette And Boni', 'Simple Pleasure': 'Simple Pleasure', 'Five Leaves Left': 'Five Leaves Left', 'Can We Start Again?': 'Can We Start Again?', 'The Ideal Crash': 'The Ideal Crash', 'Donkeys 92 - 97': 'Donkeys 92 - 97', 'BBC Sessions': 'BBC Sessions', 'Full Blast': 'Full Blast', 'The Ride': 'The Ride', 'Dying In Time': 'Dying In Time', 'Autobahn': 'Autobahn', 'Music To Fall Asleep': 'Music To Fall Asleep', 'Pop Ambient 2009': 'Pop Ambient 2009', 'Nah Und Fern': 'Near and far', 'Even In Silence': 'Even In Silence', 'F♯ A♯ ∞': 'F♯ A♯ ∞', 'Slow Riot For New Zerø Kanada E.P.': 'Slow Riot For New Zerø Kanada E.P.', 'Hour Of The Trace': 'Hour Of The Trace', 'Feels Like Home': 'Feels Like Home', 'Naked Acid': 'Naked Acid', 'Lie In Light': 'Lie In Light', 'Songs For The Broken Hearted': 'Songs For The Broken Hearted', 'The Man Who Died In His Boat': 'The Man Who Died In His Boat', 'Haunt Me Haunt Me Do It Again': 'Haunt Me Haunt Me Do It Again', 'Radio Amor': 'Love Radio', 'Shade': 'Shade', 'Depths': 'Depths', 'Lift Yr. Skinny Fists Like Antennas To Heaven!': 'Lift Yr. Skinny Fists Like Antennas To Heaven!', 'The Dead Texan': 'The Dead Texan', 'Kompilation': 'compilation', 'Harmony In Ultraviolet': 'Harmony In Ultraviolet', 'White Bird Release': 'White Bird Release', 'An Imaginary Country': 'An Imaginary Country', 'Ravedeath, 1972': 'Ravedeath, 1972', 'Dropped Pianos': 'Dropped Pianos', 'Tahoe': 'Tahoe', 'Grid Of Points': 'Grid Of Points', 'Allegiance And Conviction': 'Allegiance And Conviction', 'Quiet City': 'Quiet City', 'Stars Of The Lid And Their Refinement Of The Decline': 'Stars Of The Lid And Their Refinement Of The Decline', 'Konoyo': 'This world', 'Anoyo': 'afterlife', 'No Highs': 'No Highs', 'Ruins': 'Ruins', 'A I A : Dream Loss': 'A I A : Dream Loss', 'A I A : Alien Observer': 'A I A : Alien Observer', 'The North Water (Original Score)': 'The North Water (Original Score)', \"I'll Be Long Gone Before My Light Reaches You\": \"I'll Be Long Gone Before My Light Reaches You\", 'Memoryhouse': 'Memoryhouse', 'Antiphonals': 'Antiphonals', 'Selected Works I': 'Selected Works I', 'Selected Works II': 'Selected Works II', 'Cantus, Descant': 'Cantus, Descant', 'Two Sisters': 'Two Sisters', 'Cantus, Descant / Figures In Open Air / Laurus': 'Cantus, Descant / Figures In Open Air / Laurus', 'The Alias Sessions': 'The Alias Sessions', 'Martes + Utopía': 'Tuesday + Utopia', 'Everyone Alive Wants Answers': 'Everyone Alive Wants Answers', 'Tripper': 'Tripper', 'Harps Old Master': 'Harps Old Master', 'The Golden Morning Breaks': 'The Golden Morning Breaks', 'Colleen Et Les Boîtes À Musique': 'Colleen and the Music Boxes', 'Be Still': 'Be Still', 'Les Ondes Silencieuses': 'The Silent Waves', 'Parades': 'Parades', 'The Versailles Sessions': 'The Versailles Sessions', 'Springer': 'Springer', 'Under Giant Trees': 'Under Giant Trees', 'Sakura': 'Sakura', 'Dreams Made Of Paper': 'Dreams Made Of Paper', 'Nocturne Impalpable': 'Impalpable Nocturne', 'Blue Straggler': 'Blue Straggler', 'A Darkness': 'A Darkness', 'Spirit Exit': 'Spirit Exit', 'Specification.Fifteen': 'Specification.Fifteen', 'Camera Lucida': 'Camera Lucida', 'Further Materials': 'Further Materials', 'For': 'For', 'All The Leaves Are Gone': 'All The Leaves Are Gone', '3': '3', 'The Sick Anchors': 'The Sick Anchors', 'Promises': 'Promises', 'Icons': 'Icons', 'A Question Of Re-Entry': 'A Question Of Re-Entry', 'Rain by High Lantern': 'Rain by High Lantern', 'Aurora': 'Aurora', 'Ten Places To Die / England & A Broken Radio': 'Ten Places To Die / England & A Broken Radio', 'The Civil War': 'The Civil War', '#NAME?': '#NAME?', \"The Return Of Fenn O'Berg\": \"The Return Of Fenn O'Berg\", 'Funeral': 'Funeral', 'Slumber Tides': 'Slumber Tides', 'Daydreaming': 'Daydreaming', 'Treny': 'Treny', 'Varde': 'Ward', 'Navigare': 'Navigate', 'Black Sleep': 'Black Sleep', 'Scattered Practices': 'Scattered Practices', 'Gallarais': 'Gallarais', 'The Piano Works 5': 'The Piano Works 5', 'Atlas Eclipticalis With Winter Music': 'Atlas Eclipticalis With Winter Music', 'Wonderland': 'Wonderland', 'Seven Sisters': 'Seven Sisters', 'A.R.C.': 'A.R.C.', 'Zweite Meer': 'Second sea', 'Winter Trilogy / The Big Fall': 'Winter Trilogy / The Big Fall', '44 x 44 - Orphax Reworked': '44 x 44 - Orphax Reworked', 'Splendid': 'Splendid', 'The Radiophonic Workshop': 'The Radiophonic Workshop', 'Animal Rights': 'Animal Rights', 'Strategies Against Architecture III (1991-2001)': 'Strategies Against Architecture III (1991-2001)', 'The Best Of': 'The Best Of', 'B-Sides & Rarities': 'B-Sides & Rarities', 'No More Shall We Part': 'No More Shall We Part', \"No Man's Land\": \"No Man's Land\", 'These Places Are Now Ruins': 'These Places Are Now Ruins', 'Broken Statues': 'Broken Statues', 'Still Life': 'Still Life', 'Infoldings': 'Infoldings', 'Diffractions': 'Diffractions', 'Barcelona': 'Barcelona', 'Deep Listening': 'Deep Listening', 'Timbre Hollow': 'Timbre Hollow', \"Dial 'B' For Barbra\": \"Dial 'B' For Barbra\", 'Man With A Movie Camera': 'Man With A Movie Camera', 'Konfusion': 'Confusion', 'The Floating Glass Key In The Sky': 'The Floating Glass Key In The Sky', 'Foley Room': 'Foley Room', 'Skalpel': 'Scalpel', 'Luke Stewart & Jarvis Earnshaw Quartet': 'Luke Stewart & Jarvis Earnshaw Quartet', 'A Jones In Time Saves Nine': 'A Jones In Time Saves Nine', 'Landfall': 'Landfall', 'Coptic Dub': 'Coptic Dub', 'Whiskey Flats': 'Whiskey Flats', 'AnimaminA': 'AnimaminA', 'Arcade Fire': 'Arcade Fire', 'Fake': 'Fake', 'Cupo': 'Quota', 'Live 2002': 'Live 2002', 'Glass': 'Glass', 'HYbr:ID I': 'HYbr:ID I', 'Kinder Der Sonne': 'Children of the Sun', 'Blue Notes For Johnny': 'Blue Notes For Johnny', 'Shutûn': 'Shutun', 'Greatest Hits': 'Greatest Hits', 'Onedotzero_select dvd 4': 'Onedotzero_select dvd 4', 'Foreverandevernomore': 'Foreverandevernomore', 'Tutankhamun': 'Tutankhamun', 'Some Good News': 'Some Good News', 'Blue Notes For Mongezi': 'Blue Notes For Mongezi', 'Live At I.U.C.C.': 'Live At I.U.C.C.', 'The Call': 'The Call', 'Brace Up!': 'Brace Up!', 'Catching Net': 'Catching Net', 'The Drought': 'The Drought', 'Workaround': 'Workaround', 'Live Knots': 'Live Knots', 'Mi Sei Apparso Come Un Fantasma': 'You Appeared to Me Like a Ghost', 'Go': 'Go', 'Amnesiac': 'Amnesiac', 'The Bends': 'The Bends', 'OK Computer': 'OK Computer', 'Valtari Film Experiment': 'Valtari Film Experiment', 'Good Morning Spider': 'Good Morning Spider', 'I Might Be Wrong - Live Recordings': 'I Might Be Wrong - Live Recordings', 'A Rush Of Blood To The Head': 'A Rush Of Blood To The Head', 'My Iron Lung E.P.': 'My Iron Lung E.P.', 'Gegenschein': 'Counternote', 'Locusts': 'Locusts', 'Illusion Of Time': 'Illusion Of Time', 'Special Forces': 'Special Forces', 'Reversing Into The Future': 'Reversing Into The Future', 'Living Torch': 'Living Torch', 'Digressions': 'Digressions', 'Daemonia Nymphe': 'Demonia Nymph', 'Broken Music (Details)': 'Broken Music (Details)', 'In A Cool Monsoon': 'In A Cool Monsoon', 'Systems/Layers': 'Systems/Layers', 'Music For Egon Schiele': 'Music For Egon Schiele', 'Selenography': 'Selenography', 'Xerrox Vol.2': 'Xerrox Vol.2', 'Mimikry': 'Mimicry', 'Vrioon': 'Vryon', 'Insen': 'Insen', 'revep': 'revep', 'Insen Live': 'Insen Live', 'Xerrox Vol.1': 'Xerrox Vol.1', 'CoH Plays Cosey': 'CoH Plays Cosey', 'utp_': 'utp_', 'Strings': 'Strings', 'Death Of A Typographer': 'Death Of A Typographer', 'A Turn Of Breath': 'A Turn Of Breath', 'Let Night Come On Bells End The Day': 'Let Night Come On Bells End The Day', 'Abies Firma': 'Abies Firma', 'Sessions': 'Sessions', 'Internal Travels': 'Internal Travels', 'Body': 'Body', 'Three': 'Three', 'Townsville': 'Townsville', 'Mindset': 'Mind set', 'Flares': 'Flares', 'Blindfold': 'Blindfold', 'The Blue Sound': 'The Blue Sound', 'She Haunts My Dreams': 'She Haunts My Dreams', 'Remotely Together': 'Remotely Together', 'The Avant-Garde': 'The Avant-Garde', 'Rave Tapes': 'Rave Tapes', 'Norberg': 'Norberg', 'Airport Symphony': 'Airport Symphony', 'Steel Wound': 'Steel Wound', 'Alluvial': 'Alluvial', 'Tomorrow Is Too Late': 'Tomorrow Is Too Late', 'Totemo Aimasho = とてもあいましょう': 'Totemo Aimasho = Totemo Aimasho', 'Ku': 'To', 'Les Protorhythmiques': 'The Protorhythmics', 'In The Last Hour': 'In The Last Hour', 'Basis': 'Basis', 'Painting Sky Together': 'Painting Sky Together', 'Plastic Materials': 'Plastic Materials', 'Saunter': 'Saunter', 'U': 'U', 'Temporacha': 'Season', 'Play Scar': 'Play Scar', 'Which Way To Leave?': 'Which Way To Leave?', 'MRI': 'MRI', 'After Vacation': 'After Vacation', 'I Am A Bird Now': 'I Am A Bird Now', 'Tiny Cities': 'Tiny Cities', 'A Lifetime Of Temporary Relief - 10 Years Of B-Sides & Rarities': 'A Lifetime Of Temporary Relief - 10 Years Of B-Sides & Rarities', 'Bavarian Fruit Bread': 'Bavarian Fruit Bread', 'Trust': 'Trust', 'Farewell Sorrow': 'Farewell Sorrow', 'All Of Yesterday Tomorrow': 'All Of Yesterday Tomorrow', 'Nordheim Transformed': 'Nordheim Transformed', 'Sakuteiki': 'Formulation machine', 'Money Will Ruin Everything': 'Money Will Ruin Everything', 'Chiaroscuro': 'Chiaroscuro', 'Strjon': 'Stray', 'Sonata Mix Dwarf Cosmos': 'Sonata Mix Dwarf Cosmos', '01-Mar': '01-Mar', '8': '8', '9': '9', 'Sult': 'Sult', '7': '7', 'The Hands': 'The Hands', 'She Sleeps, She Sleeps': 'She Sleeps, She Sleeps', 'The Timeless Nowhere': 'The Timeless Nowhere', 'Morals And Dogma': 'Morals And Dogma', 'Melody Mountain': 'Melody Mountain', 'Studio 1': 'Studio 1', 'Flower Of Evil': 'Flower Of Evil', 'Straum': 'Stream', 'List Of Lights And Buoys': 'List Of Lights And Buoys', 'Artificial Dancers (Waves Of Synth)': 'Artificial Dancers (Waves Of Synth)', 'Nue': 'Nue', 'Frkwys Vol. 16: In A Word': 'Frkwys Vol. 16: In A Word', 'Ekstasis': 'Ecstasy', 'Contact': 'Contact', 'Amsterdam Stranded': 'Amsterdam Stranded', 'Kantamoinen': 'Ranged', 'The Magnolia Electric Co': 'The Magnolia Electric Co', 'The Suncrows Fall And Tree': 'The Suncrows Fall And Tree', 'Golden Age Of Radio': 'Golden Age Of Radio', 'Stadium': 'Stadium', 'Yeo\\u200b-\\u200bNeun': 'Yeo - Neun', 'Everything Perfect Is Already Here': 'Everything Perfect Is Already Here', 'Smalltown Supersound Remix Anthology Vol. 1-4 2002-2022': 'Smalltown Supersound Remix Anthology Vol. 1-4 2002-2022', \"Sow Your Gold In The White Foliated Earth (A Composition For Ensemble Musikfabrik's Harry Parch Instruments)\": 'Sow Your Gold In The White Foliated Earth (A Composition For Ensemble Musikfabrik Harry Partch Instruments)', 'Link': 'Link', 'Lift Every Voice And Sing': 'Lift Every Voice And Sing', 'The Bending Of Light': 'The Bending Of Light', 'Abandoned In Sleep': 'Abandoned In Sleep', 'Bitter Hands Resign': 'Bitter Hands Resign', 'Rock With The Legend': 'Rock With The Legend', 'Deutsche Elektronische Musik 2 (Experimental German Rock And Electronic Musik 1971-83) (Record B)': 'German Electronic Music 2 (Experimental German Rock And Electronic Music 1971-83) (Record B)', 'Ether Song': 'Ether Song', 'Triste': 'Sad', 'Rock Action': 'Rock Action', \"L'Amour Invisible\": 'Invisible Love', 'Transcriptions': 'Transcriptions', 'Live In Brighton 1975': 'Live In Brighton 1975', 'Virtute Et Industria': 'Power And Energy', 'Pedal': 'Pedal', 'In Egypt': 'In Egypt', 'Aomawa (The 1970s Recordings)': 'Aomawa (The 1970s Recordings)', 'Swirling': 'Swirling', 'Lanquidity': 'Lanquidity', 'All My Circles Run': 'All My Circles Run', 'Already Gone': 'Already Gone', 'The Crystalline Address': 'The Crystalline Address', 'An Anthology Of Noise & Electronic Music / First A-Chronology 1921 – 2001': 'An Anthology Of Noise & Electronic Music / First A-Chronology 1921 – 2001', 'Host': 'Host', 'Inhumane Humans': 'Inhumane Humans', 'Drumming': 'Drumming', 'From Which The River Rises': 'From Which The River Rises', 'Inside The Dream Syndicate Volume I: Day Of Niagara (1965)': 'Inside The Dream Syndicate Volume I: Day Of Niagara (1965)', 'June': 'June', 'Sad Songs For Dirty Lovers': 'Sad Songs For Dirty Lovers', 'Churning Strides': 'Churning Strides', 'Palmless Prayer / Mass Murder Refrain': 'Palmless Prayer / Mass Murder Refrain', 'Happiness': 'Happiness', 'When I Live By The Garden And The Sea': 'When I Live By The Garden And The Sea', 'Copia': 'Copy', 'Selva Oscura': 'Dark Jungle', 'Ultrasonic': 'Ultrasonic', 'EPH Reissue': 'EPH Reissue', 'Moa Anbessa': 'More Ambessa', 'Baby Talk (Live At Molde International Jazz Festival 2015)': 'Baby Talk (Live At Molde International Jazz Festival 2015)', 'Again': 'Again', 'Dís': 'fairy', 'Reticence / Resistance': 'Reticence / Resistance', 'Lead Us Not Into Temptation - Music From The Film Young Adam': 'Lead Us Not Into Temptation - Music From The Film Young Adam', 'Juxtaposition': 'Juxtaposition', 'Film': 'Film', 'Knoxville': 'Knoxville', 'Dreamless Sleep': 'Dreamless Sleep', 'See The World Given To A One Love Entity': 'See The World Given To A One Love Entity', 'Ultimate Care II': 'Ultimate Care II', 'On Dark Silent Off': 'On Dark Silent Off', 'In Free Fall': 'In Free Fall', 'The Trojan Horse': 'The Trojan Horse', 'Box Of Birch': 'Box Of Birch', 'Crow Autumn': 'Crow Autumn', 'Axes': 'Axes', 'Agora': 'Now', '+/-': '+/-', 'Substrata²': 'Substrata²', 'Venice': 'Venice', 'Touch Food': 'Touch Food', 'Grapes From The Estate': 'Grapes From The Estate', 'Virðulegu Forsetar': 'Honorable Presidents', 'Dropsonde': 'Drop probe', 'Sand.': 'Sand.', 'Without Sinking': 'Without Sinking', 'Aíneen Musta Puhelin = Black Telephone Of Matter': 'Aíneen Musta Puhelin = Black Telephone Of Matter', 'Black Sea': 'Black Sea', \"In The Pendulum's Embrace\": \"In The Pendulum's Embrace\", 'Touch Strings': 'Touch Strings', 'An Ark For The Listener': 'An Ark For The Listener', 'Audience Of One': 'Audience Of One', 'Kiri No Oto': 'Under the fog', 'Cendre': 'Ash', 'The Sinking Of The Titanic': 'The Sinking Of The Titanic', 'Wireless - Live At The Arnolfini, Bristol': 'Wireless - Live At The Arnolfini, Bristol', 'Seven Stars': 'Seven Stars', 'Flumina': 'Rivers', '\"Dogs\"': '\"Dogs\"', 'Ears Are Filled With Wonder': 'Ears Are Filled With Wonder', 'Sparrow Nights': 'Sparrow Nights', 'A Selection Of Drones Past: Singles 1993-2000': 'A Selection Of Drones Past: Singles 1993-2000', 'Corduroy Road': 'Corduroy Road', 'Le Fumeur De Ciel': 'The Sky Smoker', 'Pale Ravine': 'Pale Ravine', 'Landings': 'Landings', 'For Frosty Mornings And Summer Nights': 'For Frosty Mornings And Summer Nights', 'The Black Book Of Capitalism': 'The Black Book Of Capitalism', 'Cello Recycling | Cello Drowning': 'Cello Recycling | Cello Drowning', 'Kappe': 'Cloak', 'Nuage': 'Cloud', 'Dragging A Dead Deer Up A Hill': 'Dragging A Dead Deer Up A Hill', 'Your Naked Ghost Comes Back At Night': 'Your Naked Ghost Comes Back At Night', 'The Whole': 'The Whole', 'Love Is A Stream': 'Love Is A Stream', 'Folding In On Itself': 'Folding In On Itself', 'Knive': 'Knives', 'Drunken Forest': 'Drunken Forest', 'Alhambra Love Songs': 'Alhambra Love Songs', 'Lost Signals And Drifting Satellites': 'Lost Signals And Drifting Satellites', 'Dire Straits': 'Dire Straits', 'The Beginning / The Scott Engel Sessions': 'The Beginning / The Scott Engel Sessions', 'Ambient 1 (Music For Airports)': 'Ambient 1 (Music For Airports)', 'The Golden Age': 'The Golden Age', 'Pale Bloom': 'Pale Bloom', 'After Its Own Death / Walking In A Spiral Towards The House': 'After Its Own Death / Walking In A Spiral Towards The House', 'Colored Mushroom And The Medicine Rocks': 'Colored Mushroom And The Medicine Rocks', 'SIGN': 'SIGN', 'PLUS': 'PLUS', 'Chiastic Slide': 'Chiastic Slide', 'Flashlight Seasons': 'Flashlight Seasons', 'Eyes Set Against The Sun': 'Eyes Set Against The Sun', 'The Western Lands': 'The Western Lands', 'The Elephant In The Room: 3 Commissions': 'The Elephant In The Room: 3 Commissions', 'Amber': 'Amber', 'Safe In The Hands Of Love': 'Safe In The Hands Of Love', 'Heaven To A Tortured Mind': 'Heaven To A Tortured Mind', 'The Campfire Headphase': 'The Campfire Headphase', 'Occasus': 'Setting', 'With Voices': 'With Voices', 'Velocity Of Sleep': 'Velocity Of Sleep', 'Burnish': 'Burnish', 'A Light For Attracting Attention': 'A Light For Attracting Attention', 'Anima': 'Anima', 'OK Computer OKNOTOK 1997 2017': 'OK Computer OKNOTOK 1997 2017', 'Daughter': 'Daughter', 'Lost Memory Theatre - Act-2': 'Lost Memory Theatre - Act-2', 'Solaris - Music From The Motion Picture By Andrey Tarkovsky': 'Solaris - Music From The Motion Picture By Andrey Tarkovsky', 'Cheap Imitation': 'Cheap Imitation'}\n"
     ]
    }
   ],
   "source": [
    "df_copy=df.copy()\n",
    "df_columns=['Label','Title']\n",
    "\n",
    "translations = {}\n",
    "for column in df_columns:\n",
    "    # unique elements of the column\n",
    "    unique_elements = df_copy[column].unique()\n",
    "    for element in unique_elements:\n",
    "        # add translation to the dictionary\n",
    "        translations[element] = translator.translate(element).text\n",
    "    \n",
    "print(translations)"
   ]
  },
  {
   "cell_type": "code",
   "execution_count": 9,
   "id": "be74ca86",
   "metadata": {},
   "outputs": [
    {
     "data": {
      "text/plain": [
       "'\\nnew=df_copy[\\'Label\\'].str.split(\",\",n=1,expand=True)\\ndf_copy[\\'Label1\\']=new[0]\\ndf_copy[\\'Label2\\']=new[1]\\n'"
      ]
     },
     "execution_count": 9,
     "metadata": {},
     "output_type": "execute_result"
    }
   ],
   "source": [
    "def split_new_name(df,Label):\n",
    "    new=df['Label'].str.split(\",\",n=1,expand=True)\n",
    "    df['Label1']=new[0]\n",
    "    df['Label2']=new[1]\n",
    "    df['Label1']=df['Label1'].str.strip()\n",
    "    df['Label2']=df['Label2'].str.strip()\n",
    "    return df\n",
    "\n",
    "split_new_name(df_copy,'Label')\n"
   ]
  },
  {
   "cell_type": "code",
   "execution_count": 11,
   "id": "d0a039cf",
   "metadata": {},
   "outputs": [
    {
     "name": "stderr",
     "output_type": "stream",
     "text": [
      "C:\\Users\\KKI27\\AppData\\Local\\Temp\\ipykernel_21196\\4054993276.py:4: FutureWarning: The default value of regex will change from True to False in a future version.\n",
      "  df_copy['Format']=df_copy['Format'].str.replace('\\d+','') #removes the digit from the format\n"
     ]
    }
   ],
   "source": [
    "df_copy['Same_label']=np.where(df_copy['Label1']==df_copy['Label2'],'Same','Different')\n",
    "df_copy['Format']=df_copy['Format'].astype(str)\n",
    "\n",
    "df_copy['Format']=df_copy['Format'].str.replace('\\d+','') #removes the digit from the format \n",
    "df_copy['Format_category']=np.where(df_copy['Format'].str.contains(\"CD\"),\"CD\",\n",
    "                                    np.where(df_copy['Format'].str.contains(\"LP\"),\"LP\",df_copy['Format']))\n",
    "\n",
    "# Generating random values for \n",
    "df_copy['Value']=np.where(df_copy['Format'].str.contains('LP'),np.random.randint(10,50,df_copy.shape[0]),\n",
    "                                                                                 np.random.randint(2,8,df_copy.shape[0]))"
   ]
  },
  {
   "cell_type": "markdown",
   "id": "feb29fb8",
   "metadata": {},
   "source": [
    "## File export"
   ]
  },
  {
   "cell_type": "code",
   "execution_count": 90,
   "id": "c2670685",
   "metadata": {},
   "outputs": [],
   "source": [
    "df_top_artists=pd.concat([df_hecker,df_ambarchi,df_davachi,df_coil,df_grouper],axis=0)"
   ]
  },
  {
   "cell_type": "code",
   "execution_count": 94,
   "id": "c59ee51c",
   "metadata": {},
   "outputs": [
    {
     "data": {
      "text/plain": [
       "Index(['Catalog#', 'Artist', 'Title', 'Label', 'Format', 'Released',\n",
       "       'release_id', 'CollectionFolder', 'Date Added', 'date', 'Time',\n",
       "       'Label1', 'Label2', 'Same_label', 'Format_category', 'Value',\n",
       "       'Date Added Year'],\n",
       "      dtype='object')"
      ]
     },
     "execution_count": 94,
     "metadata": {},
     "output_type": "execute_result"
    }
   ],
   "source": [
    "df_top_artists.columns"
   ]
  },
  {
   "cell_type": "code",
   "execution_count": 12,
   "id": "a461f73f",
   "metadata": {},
   "outputs": [],
   "source": [
    "df_copy.to_csv('music_collection_final.csv')"
   ]
  }
 ],
 "metadata": {
  "kernelspec": {
   "display_name": "Python 3 (ipykernel)",
   "language": "python",
   "name": "python3"
  },
  "language_info": {
   "codemirror_mode": {
    "name": "ipython",
    "version": 3
   },
   "file_extension": ".py",
   "mimetype": "text/x-python",
   "name": "python",
   "nbconvert_exporter": "python",
   "pygments_lexer": "ipython3",
   "version": "3.10.9"
  }
 },
 "nbformat": 4,
 "nbformat_minor": 5
}
